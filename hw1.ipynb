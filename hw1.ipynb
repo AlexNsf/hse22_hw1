{
 "cells": [
  {
   "cell_type": "code",
   "execution_count": 1,
   "metadata": {
    "collapsed": true
   },
   "outputs": [],
   "source": [
    "import re"
   ]
  },
  {
   "cell_type": "code",
   "execution_count": 2,
   "outputs": [],
   "source": [
    "def make_data(filename:str) -> dict[str, str]:\n",
    "    with open(filename, \"r\") as f:\n",
    "        data = {}\n",
    "        last_name = \"\"\n",
    "        for line in f.readlines():\n",
    "            line = line.strip()\n",
    "            if line.startswith(\">\"):\n",
    "                last_name = line\n",
    "                data[last_name] = \"\"\n",
    "            else:\n",
    "                data[last_name] += line\n",
    "        return data\n",
    "\n",
    "\n",
    "def create_stats(filename: str, gaps: bool = False, longest: bool = False):\n",
    "    data = make_data(filename)\n",
    "    lens = [len(value) for value in data.values()]\n",
    "    lens_sum = sum(lens)\n",
    "    lens_max = max(lens)\n",
    "    lens.sort(reverse=True)\n",
    "    n50 = 0\n",
    "    cur_len = 0\n",
    "    for len_ in lens:\n",
    "        cur_len += len_\n",
    "        if cur_len * 2 >= lens_sum:\n",
    "            n50 = len_\n",
    "            break\n",
    "    print(f\"amount: {len(data)} length: {lens_sum} max length: {lens_max} N50: {n50}\")\n",
    "    if gaps:\n",
    "        max_scaf = max(data.values(), key=len)\n",
    "        gaps = re.findall(r'N+', max_scaf)\n",
    "        gaps_len = sum([len(gap) for gap in gaps])\n",
    "        print(f\"scaffold with max length has {len(gaps)} gaps and overall length of gaps {gaps_len}\")\n",
    "        if longest:\n",
    "            print(max_scaf, file=open(\"data/longest.fasta\", \"w+\"))"
   ],
   "metadata": {
    "collapsed": false
   }
  },
  {
   "cell_type": "code",
   "execution_count": 4,
   "outputs": [
    {
     "name": "stdout",
     "output_type": "stream",
     "text": [
      "Contigs:\n",
      "amount: 610 length: 3925436 max length: 179307 N50: 55039\n",
      "Scaffolds:\n",
      "amount: 73 length: 3876349 max length: 3832520 N50: 3832520\n",
      "scaffold with max length has 60 gaps and overall length of gaps 6582\n",
      "Scaffolds with closed gaps: \n",
      "amount: 73 length: 3917348 max length: 3873250 N50: 3873250\n",
      "scaffold with max length has 7 gaps and overall length of gaps 1679\n"
     ]
    }
   ],
   "source": [
    "print(\"Contigs:\")\n",
    "create_stats(\"data/contig.fa\")\n",
    "print(\"Scaffolds:\")\n",
    "create_stats(\"data/scaffold.fa\", True, True)\n",
    "print(\"Scaffolds with closed gaps: \")\n",
    "create_stats(\"data/gapClosed.fa\", True)"
   ],
   "metadata": {
    "collapsed": false
   }
  },
  {
   "cell_type": "code",
   "execution_count": 5,
   "outputs": [
    {
     "name": "stdout",
     "output_type": "stream",
     "text": [
      "Small\n",
      "Contigs:\n",
      "amount: 3395 length: 3913859 max length: 31111 N50: 4173\n",
      "Scaffolds:\n",
      "amount: 483 length: 3864234 max length: 747031 N50: 640753\n",
      "scaffold with max length has 316 gaps and overall length of gaps 16039\n",
      "Scaffolds with closed gaps: \n",
      "amount: 483 length: 3855680 max length: 744780 N50: 639677\n",
      "scaffold with max length has 27 gaps and overall length of gaps 6708\n"
     ]
    }
   ],
   "source": [
    "print(\"Small\")\n",
    "print(\"Contigs:\")\n",
    "create_stats(\"data/small_contig.fa\")\n",
    "print(\"Scaffolds:\")\n",
    "create_stats(\"data/small_scaffold.fa\", True)\n",
    "print(\"Scaffolds with closed gaps: \")\n",
    "create_stats(\"data/small_gapClosed.fa\", True)"
   ],
   "metadata": {
    "collapsed": false
   }
  },
  {
   "cell_type": "code",
   "execution_count": null,
   "outputs": [],
   "source": [],
   "metadata": {
    "collapsed": false
   }
  }
 ],
 "metadata": {
  "kernelspec": {
   "display_name": "Python 3",
   "language": "python",
   "name": "python3"
  },
  "language_info": {
   "codemirror_mode": {
    "name": "ipython",
    "version": 2
   },
   "file_extension": ".py",
   "mimetype": "text/x-python",
   "name": "python",
   "nbconvert_exporter": "python",
   "pygments_lexer": "ipython2",
   "version": "2.7.6"
  }
 },
 "nbformat": 4,
 "nbformat_minor": 0
}
